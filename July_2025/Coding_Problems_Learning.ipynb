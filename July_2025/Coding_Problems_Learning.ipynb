{
  "nbformat": 4,
  "nbformat_minor": 0,
  "metadata": {
    "colab": {
      "provenance": [],
      "authorship_tag": "ABX9TyMS0LkJWMZewmZLduvweV+b",
      "include_colab_link": true
    },
    "kernelspec": {
      "name": "python3",
      "display_name": "Python 3"
    },
    "language_info": {
      "name": "python"
    }
  },
  "cells": [
    {
      "cell_type": "markdown",
      "metadata": {
        "id": "view-in-github",
        "colab_type": "text"
      },
      "source": [
        "<a href=\"https://colab.research.google.com/github/dhsingh0815/CodingPractice/blob/main/July_2025/Coding_Problems_Learning.ipynb\" target=\"_parent\"><img src=\"https://colab.research.google.com/assets/colab-badge.svg\" alt=\"Open In Colab\"/></a>"
      ]
    },
    {
      "cell_type": "code",
      "execution_count": null,
      "metadata": {
        "id": "3USzmUz5Q08i"
      },
      "outputs": [],
      "source": []
    },
    {
      "cell_type": "markdown",
      "source": [
        "# Find pair (2 numbers) of numbers in a sorted array that make the given sum\n",
        "## How to think\n",
        "### 1. Take two indexes, pointing left most number and right most number\n",
        "### 2.a if sum of the numbers equals target sum - Done\n",
        "### 2.b if sum of the numbers < target sum - move forward the left index\n",
        "### 2.c if sum of the numbers > target sum - move backward the right index\n",
        "### Until left index < right index\n"
      ],
      "metadata": {
        "id": "sIjDyESnxX3F"
      }
    },
    {
      "cell_type": "markdown",
      "source": [
        "# Find 3 numbers in array that sum to 0\n",
        "\n",
        "## Combinations means no ordering. 2,3,1 is one combination. However, 2,3,1 ; 1,2,3; 3,1,2; 2,1,3; 1,3,2; 3,2,1 - 6 total permutations , here order matters\n",
        "## How to think\n",
        "### Nested looping on an array gives Combinations\n"
      ],
      "metadata": {
        "id": "vCn_FA_WQ6P1"
      }
    },
    {
      "cell_type": "markdown",
      "source": [
        "# Input: s = \"geeksforgeeks\" Output: 7 Explanation: The longest substrings without repeating characters are \"eksforg” and \"ksforge\", with lengths of 7.\n",
        "\n",
        " ## How to think\n",
        " ### 1. take an empty buildup array, and (input) residual array\n",
        " ### 2.a Move first element from residual array to buildup array if element not already present in builup array\n",
        " ### 2.b If element already present in buildup array, thats the longest buildup array can be made from input residual array\n",
        " ### 3. Start again with empty buildup array and one element less from residual array\n",
        " ### 4. Repeat until residual array becomes empty"
      ],
      "metadata": {
        "id": "f9oVllwNyk6n"
      }
    },
    {
      "cell_type": "markdown",
      "source": [
        "#You are given an integer array height of length n. There are n vertical lines drawn such that the two endpoints of the ith line are (i, 0) and (i, height[i]).Find two lines that together with the x-axis form a container, such that the container contains the most water.Return the maximum amount of water a container can store. Input: height = [1,8,6,2,5,4,8,3,7] Output: 49 Explanation: The above vertical lines are represented by array [1,8,6,2,5,4,8,3,7]. In this case, the max area of water (blue section) the container can contain is 49.\n",
        "\n",
        "\n",
        "\n",
        "## How to think\n",
        "### Again take two extreme index pointers, keep on moving and calulating"
      ],
      "metadata": {
        "id": "N-Nuqax8EdUy"
      }
    },
    {
      "cell_type": "code",
      "source": [],
      "metadata": {
        "id": "ziAbdhf3Eg_k"
      },
      "execution_count": null,
      "outputs": []
    }
  ]
}