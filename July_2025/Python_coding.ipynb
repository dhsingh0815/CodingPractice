{
  "nbformat": 4,
  "nbformat_minor": 0,
  "metadata": {
    "colab": {
      "provenance": [],
      "authorship_tag": "ABX9TyOFwY7rB1LH07W1MjXyxABP",
      "include_colab_link": true
    },
    "kernelspec": {
      "name": "python3",
      "display_name": "Python 3"
    },
    "language_info": {
      "name": "python"
    }
  },
  "cells": [
    {
      "cell_type": "markdown",
      "metadata": {
        "id": "view-in-github",
        "colab_type": "text"
      },
      "source": [
        "<a href=\"https://colab.research.google.com/github/dhsingh0815/CodingPractice/blob/main/July_2025/Python_coding.ipynb\" target=\"_parent\"><img src=\"https://colab.research.google.com/assets/colab-badge.svg\" alt=\"Open In Colab\"/></a>"
      ]
    },
    {
      "cell_type": "markdown",
      "source": [],
      "metadata": {
        "id": "4GomEQ0lJ7Jd"
      }
    },
    {
      "cell_type": "code",
      "source": [
        "# Find all pairs\n",
        "def zeroSum(numbers):\n",
        "    for a in range(len(numbers)):\n",
        "        print(\"Level 1: \",numbers[a])\n",
        "        for b in range(a+1,len(numbers)):\n",
        "          print(\"Level 2: \",numbers[a],numbers[b])\n",
        "          for c in range(b+1,len(numbers)):\n",
        "            print(\"Level 3: \",numbers[a],numbers[b],numbers[c])\n",
        "            for d in range(c+1,len(numbers)):\n",
        "              print(\"Level 4: \",numbers[a],numbers[b],numbers[c],numbers[d])\n",
        "              for e in range(d+1,len(numbers)):\n",
        "                print(\"Level 5: \",numbers[a],numbers[b],numbers[c],numbers[d],numbers[e])\n",
        "                for f in range(e+1,len(numbers)):\n",
        "                  print(\"Level 6: \",numbers[a],numbers[b],numbers[c],numbers[d],numbers[e],numbers[f])\n",
        "                  for g in range(f+1,len(numbers)):\n",
        "                    print(\"Level 7: \",numbers[a],numbers[b],numbers[c],numbers[d],numbers[e],numbers[f],numbers[g])\n",
        "\n",
        "\n"
      ],
      "metadata": {
        "id": "IN7PA_IYJ85V"
      },
      "execution_count": null,
      "outputs": []
    },
    {
      "cell_type": "code",
      "source": [
        "print(len([]))"
      ],
      "metadata": {
        "colab": {
          "base_uri": "https://localhost:8080/"
        },
        "id": "wyCKmoMtbL6s",
        "outputId": "9df8da6f-f0ff-49ba-d86b-7d6ff0974842"
      },
      "execution_count": null,
      "outputs": [
        {
          "output_type": "stream",
          "name": "stdout",
          "text": [
            "0\n"
          ]
        }
      ]
    },
    {
      "cell_type": "markdown",
      "source": [
        "# Longest substring in given string"
      ],
      "metadata": {
        "id": "wkUhBRfuE6K6"
      }
    },
    {
      "cell_type": "code",
      "source": [
        "def LoopingThruRecursion(buildup, residual):\n",
        "  if(len(residual) == 0):\n",
        "    return buildup\n",
        "  # Inital buildup is empty, residual is complete residual\n",
        "  # Pick first element from residual to put into buildup\n",
        "  # If element already exists, break, thats the longest buildup can be made from input residual\n",
        "  # start again with empty buildup and residual one element less\n",
        "  if(isNextElementIsThereInBuildUp(buildup,residual)):\n",
        "    #print('Breaking .. element in buildup exists')\n",
        "    return buildup\n",
        "  else:\n",
        "    buildup.append(residual[0])\n",
        "    return LoopingThruRecursion(buildup, residual[1:])\n",
        "\n",
        "def isNextElementIsThereInBuildUp(buildup, residual):\n",
        "   for a in range(0,len(buildup)):\n",
        "    if(buildup[a] == residual[0]):\n",
        "      return True"
      ],
      "metadata": {
        "id": "kzDxa9oWWK-M"
      },
      "execution_count": null,
      "outputs": []
    },
    {
      "cell_type": "code",
      "source": [
        "\n",
        "residual = list('geeksforgeeksabcdefg')\n",
        "max_length =-1\n",
        "for i in range(0,len(residual)):\n",
        "   print(max_length , len(residual[i:]))\n",
        "   if(max_length < len(residual[i:])):\n",
        "      result=LoopingThruRecursion([],residual[i:])\n",
        "      print(result, \"--\", len(result))\n",
        "      max_length =max(max_length,len(result))"
      ],
      "metadata": {
        "id": "LCpThuxAWsE7"
      },
      "execution_count": null,
      "outputs": []
    },
    {
      "cell_type": "markdown",
      "source": [
        "# Biggest water container"
      ],
      "metadata": {
        "id": "OOOO-HA3FBNp"
      }
    },
    {
      "cell_type": "code",
      "source": [
        "def biggestwatercontainer(input):\n",
        "  left =0\n",
        "  right = len(input)-1\n",
        "  max_volume = -1;\n",
        "  while(left < right):\n",
        "    breadth = right-left\n",
        "    container_height = min(input[left], input[right])\n",
        "    current_volume = container_height  * breadth\n",
        "    print(current_volume, breadth, container_height  )\n",
        "    if(current_volume > max_volume):\n",
        "      max_volume = current_volume\n",
        "    if(input[left] < input[right]):\n",
        "      left =left +1\n",
        "    else:\n",
        "      right = right -1\n",
        "      # come out of loop\n",
        "  return max_volume\n"
      ],
      "metadata": {
        "id": "VGGo51Wo0FwT"
      },
      "execution_count": null,
      "outputs": []
    },
    {
      "cell_type": "code",
      "source": [
        "print(biggestwatercontainer([1,8,6,2,5,4,8,3,7]))"
      ],
      "metadata": {
        "colab": {
          "base_uri": "https://localhost:8080/"
        },
        "id": "p_2KBJ0I2Glq",
        "outputId": "78f4fbc5-d615-4c6c-d7bc-b629f38291de"
      },
      "execution_count": null,
      "outputs": [
        {
          "output_type": "stream",
          "name": "stdout",
          "text": [
            "8 8 1\n",
            "49 7 7\n",
            "18 6 3\n",
            "40 5 8\n",
            "16 4 4\n",
            "15 3 5\n",
            "4 2 2\n",
            "6 1 6\n",
            "49\n"
          ]
        }
      ]
    },
    {
      "cell_type": "code",
      "source": [
        "def productexceptself(numbers):\n",
        "  product =1\n",
        "  answer=[]\n",
        "  for i in range(0, len(numbers)):\n",
        "     for j in range(0, len(numbers)):\n",
        "       if(i != j):\n",
        "         product = product * numbers[j]\n",
        "     print(product)\n",
        "     answer.append(product)\n",
        "     product =1\n",
        "  return answer\n",
        "\n",
        "\n",
        "\n",
        "\n"
      ],
      "metadata": {
        "id": "wz9FTdVNJQ1w"
      },
      "execution_count": 52,
      "outputs": []
    },
    {
      "cell_type": "code",
      "source": [
        "def productexceptselfOn(numbers):\n",
        "  product=1\n",
        "  zeroindex=[]\n",
        "  for i in range(0, len(numbers)):\n",
        "    if(numbers[i] == 0):\n",
        "      zeroindex.append(i)\n",
        "    else:\n",
        "     product = product * numbers[i]\n",
        "\n",
        "  for i in range(0, len(numbers)):\n",
        "    if(len(zeroindex) == 0):\n",
        "      numbers[i] = product / numbers[i]\n",
        "    elif(len(zeroindex) == 1):\n",
        "      if(i == zeroindex[0]):\n",
        "        numbers[i] = product\n",
        "      else:\n",
        "        numbers[i] = 0\n",
        "    else:\n",
        "      numbers[i] = 0\n",
        "  return numbers\n"
      ],
      "metadata": {
        "id": "oKczy_67PThf"
      },
      "execution_count": 56,
      "outputs": []
    },
    {
      "cell_type": "code",
      "source": [
        "print(productexceptselfOn([1,2,3,4]))"
      ],
      "metadata": {
        "colab": {
          "base_uri": "https://localhost:8080/"
        },
        "id": "SogmDm6qKFbh",
        "outputId": "2ce56d3b-572f-4de4-fcb1-7e92bef3abe5"
      },
      "execution_count": 58,
      "outputs": [
        {
          "output_type": "stream",
          "name": "stdout",
          "text": [
            "[24.0, 12.0, 8.0, 6.0]\n"
          ]
        }
      ]
    },
    {
      "cell_type": "code",
      "source": [
        "def productexceptselfOn1(numbers):\n",
        "  n = len(numbers)\n",
        "  prods =[]\n",
        "  left_prods =[1]\n",
        "  right_prods =[1]\n",
        "  last_left_prod=1\n",
        "  last_right_prod=1\n",
        "  for i in range(1, n):\n",
        "    print(i)\n",
        "    # iterate from 1 to last index\n",
        "    # while calculating product I am not involving ith number\n",
        "    print(\"f : \",i-1)\n",
        "    last_left_prod = last_left_prod * numbers[i-1]\n",
        "    left_prods.append(last_left_prod)\n",
        "    print(\"r: \",n-i)\n",
        "    last_right_prod = last_right_prod * numbers[n-i]\n",
        "    right_prods.append(last_right_prod)\n",
        "\n",
        "  print(left_prods)\n",
        "  print(right_prods)\n",
        "\n",
        "\n"
      ],
      "metadata": {
        "id": "x-MG5TbrcOSF"
      },
      "execution_count": 67,
      "outputs": []
    },
    {
      "cell_type": "code",
      "source": [
        "productexceptselfOn1([1,2,3,4,5])"
      ],
      "metadata": {
        "id": "PiEE0J36c25d"
      },
      "execution_count": null,
      "outputs": []
    },
    {
      "cell_type": "code",
      "source": [
        "def selfarraymul(numbers):\n",
        "  left_arr=numbers;\n",
        "  right_arr=numbers;\n",
        "  left_prod=[1]\n",
        "  right_prod=[1]\n",
        "  n = len(left_arr)\n",
        "  for i in range(1, len(left_arr)):\n",
        "    # iterate through array starting from index 1\n",
        "    # skipping i in current iteration\n",
        "    left_prod.append(left_prod[i-1] * left_arr[i-1])\n",
        "    right_prod.append(right_prod[i-1] * left_arr[n-i])\n",
        "\n",
        "  print(left_prod)\n",
        "  print(right_prod)"
      ],
      "metadata": {
        "id": "3c6_VgqN3FyG"
      },
      "execution_count": 3,
      "outputs": []
    },
    {
      "cell_type": "code",
      "source": [
        "selfarraymul([1,2,3,4,5])"
      ],
      "metadata": {
        "colab": {
          "base_uri": "https://localhost:8080/"
        },
        "id": "xVwO_8P73ai4",
        "outputId": "740a4daa-7f6d-41a7-abbe-3a52748937d9"
      },
      "execution_count": 4,
      "outputs": [
        {
          "output_type": "stream",
          "name": "stdout",
          "text": [
            "[1, 1, 2, 6, 24]\n",
            "[1, 5, 20, 60, 120]\n"
          ]
        }
      ]
    },
    {
      "cell_type": "code",
      "source": [
        "num1 = [4,5]\n",
        "num2 = [3,4,5]\n",
        "num1=[5,4]\n",
        "num2 = [5,4,3]\n",
        "if(len(num1) > len(num2)):\n",
        "  maxnum = num1\n",
        "  minum = num2\n",
        "else:\n",
        "  maxnum = num2\n",
        "  minum = num1\n",
        "\n",
        "carryforward =0\n",
        "result =0\n",
        "for i in range(0, len(maxnum)):\n",
        "   n1=0\n",
        "   if(i< len(minum)):\n",
        "    n1=minum[i]\n",
        "   else:\n",
        "    n1=0\n",
        "\n",
        "   #print(maxnum[i], n1, carryforward)\n",
        "   temp =maxnum[i]+n1+carryforward\n",
        "   carryforward = temp // 10\n",
        "   maxnum[i] = temp % 10\n",
        "   result = result + temp % 10 * pow(10,i)\n",
        "\n",
        "print(maxnum)\n",
        "print(result)\n",
        "\n",
        "\n"
      ],
      "metadata": {
        "colab": {
          "base_uri": "https://localhost:8080/"
        },
        "id": "5wN3ZfCeFSIV",
        "outputId": "06eda57d-3a5a-4353-94f4-71d4d991478c"
      },
      "execution_count": 13,
      "outputs": [
        {
          "output_type": "stream",
          "name": "stdout",
          "text": [
            "5 5 0\n",
            "4 4 1\n",
            "3 0 0\n",
            "[0, 9, 3]\n",
            "390\n"
          ]
        }
      ]
    }
  ]
}