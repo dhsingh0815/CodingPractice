{
  "nbformat": 4,
  "nbformat_minor": 0,
  "metadata": {
    "colab": {
      "provenance": [],
      "authorship_tag": "ABX9TyNf7QYLnzVUxoCrHdA2W47M",
      "include_colab_link": true
    },
    "kernelspec": {
      "name": "python3",
      "display_name": "Python 3"
    },
    "language_info": {
      "name": "python"
    }
  },
  "cells": [
    {
      "cell_type": "markdown",
      "metadata": {
        "id": "view-in-github",
        "colab_type": "text"
      },
      "source": [
        "<a href=\"https://colab.research.google.com/github/dhsingh0815/CodingPractice/blob/main/July_2025/Python_coding.ipynb\" target=\"_parent\"><img src=\"https://colab.research.google.com/assets/colab-badge.svg\" alt=\"Open In Colab\"/></a>"
      ]
    },
    {
      "cell_type": "markdown",
      "source": [],
      "metadata": {
        "id": "4GomEQ0lJ7Jd"
      }
    },
    {
      "cell_type": "code",
      "source": [
        "# Find all pairs\n",
        "def zeroSum(numbers):\n",
        "    for a in range(len(numbers)):\n",
        "        print(\"Level 1: \",numbers[a])\n",
        "        for b in range(a+1,len(numbers)):\n",
        "          print(\"Level 2: \",numbers[a],numbers[b])\n",
        "          for c in range(b+1,len(numbers)):\n",
        "            print(\"Level 3: \",numbers[a],numbers[b],numbers[c])\n",
        "            for d in range(c+1,len(numbers)):\n",
        "              print(\"Level 4: \",numbers[a],numbers[b],numbers[c],numbers[d])\n",
        "              for e in range(d+1,len(numbers)):\n",
        "                print(\"Level 5: \",numbers[a],numbers[b],numbers[c],numbers[d],numbers[e])\n",
        "                for f in range(e+1,len(numbers)):\n",
        "                  print(\"Level 6: \",numbers[a],numbers[b],numbers[c],numbers[d],numbers[e],numbers[f])\n",
        "                  for g in range(f+1,len(numbers)):\n",
        "                    print(\"Level 7: \",numbers[a],numbers[b],numbers[c],numbers[d],numbers[e],numbers[f],numbers[g])\n",
        "\n",
        "\n"
      ],
      "metadata": {
        "id": "IN7PA_IYJ85V"
      },
      "execution_count": null,
      "outputs": []
    },
    {
      "cell_type": "code",
      "source": [
        "print(len([]))"
      ],
      "metadata": {
        "colab": {
          "base_uri": "https://localhost:8080/"
        },
        "id": "wyCKmoMtbL6s",
        "outputId": "9df8da6f-f0ff-49ba-d86b-7d6ff0974842"
      },
      "execution_count": null,
      "outputs": [
        {
          "output_type": "stream",
          "name": "stdout",
          "text": [
            "0\n"
          ]
        }
      ]
    },
    {
      "cell_type": "markdown",
      "source": [
        "# Longest substring in given string"
      ],
      "metadata": {
        "id": "wkUhBRfuE6K6"
      }
    },
    {
      "cell_type": "code",
      "source": [
        "def LoopingThruRecursion(buildup, residual):\n",
        "  if(len(residual) == 0):\n",
        "    return buildup\n",
        "  # Inital buildup is empty, residual is complete residual\n",
        "  # Pick first element from residual to put into buildup\n",
        "  # If element already exists, break, thats the longest buildup can be made from input residual\n",
        "  # start again with empty buildup and residual one element less\n",
        "  if(isNextElementIsThereInBuildUp(buildup,residual)):\n",
        "    #print('Breaking .. element in buildup exists')\n",
        "    return buildup\n",
        "  else:\n",
        "    buildup.append(residual[0])\n",
        "    return LoopingThruRecursion(buildup, residual[1:])\n",
        "\n",
        "def isNextElementIsThereInBuildUp(buildup, residual):\n",
        "   for a in range(0,len(buildup)):\n",
        "    if(buildup[a] == residual[0]):\n",
        "      return True"
      ],
      "metadata": {
        "id": "kzDxa9oWWK-M"
      },
      "execution_count": 127,
      "outputs": []
    },
    {
      "cell_type": "code",
      "source": [
        "\n",
        "residual = list('geeksforgeeksabcdefg')\n",
        "max_length =-1\n",
        "for i in range(0,len(residual)):\n",
        "   print(max_length , len(residual[i:]))\n",
        "   if(max_length < len(residual[i:])):\n",
        "      result=LoopingThruRecursion([],residual[i:])\n",
        "      print(result, \"--\", len(result))\n",
        "      max_length =max(max_length,len(result))"
      ],
      "metadata": {
        "id": "LCpThuxAWsE7"
      },
      "execution_count": null,
      "outputs": []
    },
    {
      "cell_type": "markdown",
      "source": [
        "# Biggest water container"
      ],
      "metadata": {
        "id": "OOOO-HA3FBNp"
      }
    },
    {
      "cell_type": "code",
      "source": [
        "def biggestwatercontainer(input):\n",
        "  left =0\n",
        "  right = len(input)-1\n",
        "  max_volume = -1;\n",
        "  while(left < right):\n",
        "    breadth = right-left\n",
        "    container_height = min(input[left], input[right])\n",
        "    current_volume = container_height  * breadth\n",
        "    print(current_volume, breadth, container_height  )\n",
        "    if(current_volume > max_volume):\n",
        "      max_volume = current_volume\n",
        "    if(input[left] < input[right]):\n",
        "      left =left +1\n",
        "    else:\n",
        "      right = right -1\n",
        "      # come out of loop\n",
        "  return max_volume\n",
        ""
      ],
      "metadata": {
        "id": "VGGo51Wo0FwT"
      },
      "execution_count": 154,
      "outputs": []
    },
    {
      "cell_type": "code",
      "source": [
        "print(biggestwatercontainer([1,8,6,2,5,4,8,3,7]))"
      ],
      "metadata": {
        "colab": {
          "base_uri": "https://localhost:8080/"
        },
        "id": "p_2KBJ0I2Glq",
        "outputId": "78f4fbc5-d615-4c6c-d7bc-b629f38291de"
      },
      "execution_count": 153,
      "outputs": [
        {
          "output_type": "stream",
          "name": "stdout",
          "text": [
            "8 8 1\n",
            "49 7 7\n",
            "18 6 3\n",
            "40 5 8\n",
            "16 4 4\n",
            "15 3 5\n",
            "4 2 2\n",
            "6 1 6\n",
            "49\n"
          ]
        }
      ]
    }
  ]
}